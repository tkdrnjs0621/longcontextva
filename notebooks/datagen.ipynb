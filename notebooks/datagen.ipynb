{
 "cells": [
  {
   "cell_type": "code",
   "execution_count": 1,
   "id": "f95e1de1",
   "metadata": {},
   "outputs": [
    {
     "name": "stderr",
     "output_type": "stream",
     "text": [
      "/home/tkdrnjs0621/miniconda3/envs/qwen2a2/lib/python3.10/site-packages/tqdm/auto.py:21: TqdmWarning: IProgress not found. Please update jupyter and ipywidgets. See https://ipywidgets.readthedocs.io/en/stable/user_install.html\n",
      "  from .autonotebook import tqdm as notebook_tqdm\n"
     ]
    },
    {
     "data": {
      "text/plain": [
       "True"
      ]
     },
     "execution_count": 1,
     "metadata": {},
     "output_type": "execute_result"
    }
   ],
   "source": [
    "from datasets import load_dataset, Dataset\n",
    "from tqdm import tqdm\n",
    "import openai\n",
    "from dotenv import load_dotenv\n",
    "import os\n",
    "from openai import OpenAI\n",
    "\n",
    "load_dotenv()"
   ]
  },
  {
   "cell_type": "code",
   "execution_count": 2,
   "id": "1edecf5d",
   "metadata": {},
   "outputs": [],
   "source": [
    "client = OpenAI(api_key=os.environ['OPENAI_API_KEY'])"
   ]
  },
  {
   "cell_type": "code",
   "execution_count": 3,
   "id": "3cf56d8e",
   "metadata": {},
   "outputs": [],
   "source": [
    "dialogue = load_dataset(\"12kimih/HiCUPID\",\"dialogue\")"
   ]
  },
  {
   "cell_type": "code",
   "execution_count": 4,
   "id": "219cfe73",
   "metadata": {},
   "outputs": [
    {
     "name": "stderr",
     "output_type": "stream",
     "text": [
      "100%|██████████| 331250/331250 [00:24<00:00, 13766.49it/s]\n"
     ]
    }
   ],
   "source": [
    "formatted = {}\n",
    "\n",
    "for item in tqdm(dialogue['train']):\n",
    "    user_id = item['user_id']\n",
    "    dialogue_id = item['dialogue_id']\n",
    "    \n",
    "    # Initialize nested structure if not exists\n",
    "    if user_id not in formatted:\n",
    "        formatted[user_id] = {}\n",
    "    if dialogue_id not in formatted[user_id]:\n",
    "        formatted[user_id][dialogue_id] = []\n",
    "    \n",
    "    # Append user and assistant turns as a list\n",
    "    formatted[user_id][dialogue_id].append(item['user'])\n",
    "    formatted[user_id][dialogue_id].append(item['assistant'])"
   ]
  },
  {
   "cell_type": "code",
   "execution_count": 5,
   "id": "7a18ea8b",
   "metadata": {},
   "outputs": [],
   "source": [
    "formatted_str = {}\n",
    "for uid, dialogs in formatted.items():\n",
    "    formatted_str[uid] = {}\n",
    "    for did, turns in dialogs.items():\n",
    "        lines = []\n",
    "        for i, text in enumerate(turns):\n",
    "            prefix = 'User:' if i % 2 == 0 else 'Assistant:'\n",
    "            lines.append(f'{prefix} {text}')\n",
    "        formatted_str[uid][did] = \"\\n\".join(lines)"
   ]
  },
  {
   "cell_type": "code",
   "execution_count": 6,
   "id": "9381832a",
   "metadata": {},
   "outputs": [
    {
     "name": "stdout",
     "output_type": "stream",
     "text": [
      "User: What are the best ways to maintain rainboots for long-term use?\n",
      "Assistant: To ensure your rainboots last for years, clean them regularly with mild soap and water, avoiding harsh chemicals. Store them in a cool, dry place away from direct sunlight to prevent material degradation. Additionally, applying a rubber conditioner can help maintain their flexibility and appearance.\n",
      "User: I usually wear my rainboots daily. Would this affect their longevity?\n",
      "Assistant: Wearing rainboots daily can lead to increased wear and tear, but proper care can mitigate this. Rotate between pairs if possible to allow them to rest and recover. Inspect them frequently for signs of damage and address issues promptly.\n",
      "User: I find them very comfortable for my outdoor activities. Are there specific insoles recommended for rainboots?\n",
      "Assistant: Yes, using insoles designed for rainboots can enhance comfort and support. Look for moisture-wicking and cushioned insoles to keep your feet dry and comfortable. Custom orthotic insoles are also an excellent option for personalized support.\n",
      "User: I often walk through muddy terrains. How can I clean the soles effectively?\n",
      "Assistant: To clean muddy soles, use a stiff brush to remove debris, then rinse with water. For stubborn dirt, a mixture of water and mild detergent can be effective. Ensure the soles are completely dry before storing the boots.\n",
      "User: I wear rainboots because they are practical for my lifestyle. Are there any stylish options available?\n",
      "Assistant: Absolutely, rainboots come in various styles and designs to suit different preferences. Many brands offer fashionable options with patterns, colors, and even heeled versions. Explore brands known for combining functionality with style.\n",
      "User: I appreciate their versatility. Can they be used in snowy conditions as well?\n",
      "Assistant: Rainboots can be used in snowy conditions, but they may lack insulation. Consider wearing thick, thermal socks for added warmth. Alternatively, insulated rainboots are available for colder climates.\n",
      "User: I live in a region with frequent rain. Are there any accessories that complement rainboots?\n",
      "Assistant: Yes, accessories like boot liners, waterproof sprays, and boot bags can enhance your rainboot experience. Boot liners provide extra warmth, while waterproof sprays maintain their water resistance. Boot bags are convenient for storage and transport.\n",
      "User: I often pair them with my outdoor gear. Are there any tips for coordinating outfits?\n",
      "Assistant: To coordinate outfits with rainboots, consider matching colors or patterns with your outerwear. Neutral-colored rainboots pair well with most outfits, while bold designs can be a statement piece. Layering with complementary accessories can complete the look.\n",
      "User: I value their durability. Are there any eco-friendly rainboot options?\n",
      "Assistant: Yes, some brands offer rainboots made from sustainable materials like natural rubber or recycled plastics. These options are environmentally friendly and maintain high quality. Research brands committed to sustainable practices for more choices.\n",
      "User: I enjoy exploring nature trails. Are there any specific features to look for in rainboots for such activities?\n",
      "Assistant: For nature trails, look for rainboots with sturdy soles for traction, reinforced toes for protection, and lightweight designs for comfort. Waterproof and breathable materials are also essential for extended wear in varying conditions.\n"
     ]
    }
   ],
   "source": [
    "print(formatted_str[0][0])"
   ]
  },
  {
   "cell_type": "code",
   "execution_count": null,
   "id": "8d9967d2",
   "metadata": {},
   "outputs": [
    {
     "name": "stdout",
     "output_type": "stream",
     "text": [
      "```\n",
      "RR: User: I live in a region with frequent rain. Are there any accessories that complement rainboots?\n",
      "RQ: What did you ask about accessories that complement rainboots for frequent rainy conditions?  \n",
      "RA: You asked if there are any accessories that complement rainboots, and I mentioned boot liners, waterproof sprays, and boot bags as useful additions to enhance your rainboot experience.\n",
      "\n",
      "PR: User: I enjoy exploring nature trails. Are there any specific features to look for in rainboots for such activities?\n",
      "PQ: Can you recommend some rainboots with specific features for exploring nature trails?  \n",
      "PA: For exploring nature trails, I recommend rainboots with sturdy soles for traction, reinforced toes for protection, lightweight designs for comfort, and waterproof and breathable materials for extended wear in varying conditions.  \n",
      "```\n"
     ]
    }
   ],
   "source": [
    "\n",
    "# completion = client.chat.completions.create(\n",
    "#     model=\"gpt-4o-2024-08-06\",\n",
    "#     messages= [\n",
    "#     {\"role\": \"system\", \"content\": \"\"\"You will be given a conversation between the user and the assistant.\n",
    "# Your task is to create **two questions and answers**, and the reference text that each question is based on, based on this conversation :\n",
    "\n",
    "# 1. A **recall question** that asks about something said in the dialogue.\n",
    "# 2. A **personalization question** that requests a recommendation based on the dialogue.\n",
    "\n",
    "# The output format must be:\n",
    "\n",
    "# ```\n",
    "# RR: {reference text for recall question answering}\n",
    "# RQ: {recall question}  \n",
    "# RA: {answer for recall question}\n",
    "# PR: {reference text for personalization question answering}\n",
    "# PQ: {personalization question}  \n",
    "# PA: {answer for personalization question}  \n",
    "# ```\n",
    "\n",
    "# * The **recall question** should be phrased like: *\"What did I/you say about …\"* and must directly reference something from the original conversation.\n",
    "# * The **personalization question** should be phrased like: *\"Recommend some …\"* and should be clearly reference the user's preference or experience from the original question.\n",
    "# * Both questions must be strongly tied to the given dialogue so that, even after many later conversations, asking either question would naturally make the assistant recall this specific dialogue.\n",
    "# * Both questions must be answer properly **only if** the given conversation is used to answer the question.\n",
    "# * Make sure the recall question sounds as natural as possible—something the user might genuinely forget and later ask the assistant about after some time.\n",
    "# * Make sure the personalization question naturally asks questions that requires user's perference, and the user's preference must not be explicitly mentioned in the question.\n",
    "# * The question is asked by the user, and the answer is answered by assistant, so use the proper pronoun for question and answers.\n",
    "# * Reference text must be a exact copy of a line from the conversation, starting with \"User:\", or \"Assistant:\".\n",
    "# * The reference text must be the reference for each answers, if the answer is based on the user's question, it should be user's utterance. If it's based on the assistant's answer, it must be assistant's utterance.\n",
    "# \"\"\".strip()},\n",
    "#     {\"role\": \"user\", \"content\": formatted_str[0][0]},\n",
    "# ],\n",
    "#     temperature=1,\n",
    "#     top_p=1,\n",
    "# )\n",
    "\n",
    "# print(completion.choices[0].message.content)"
   ]
  },
  {
   "cell_type": "code",
   "execution_count": 7,
   "id": "fa6bf529",
   "metadata": {},
   "outputs": [
    {
     "name": "stdout",
     "output_type": "stream",
     "text": [
      "```\n",
      "Q: What did you say about maintaining rainboots for long-term use?  \n",
      "A: To ensure your rainboots last for years, clean them regularly with mild soap and water, avoiding harsh chemicals. Store them in a cool, dry place away from direct sunlight to prevent material degradation. Additionally, applying a rubber conditioner can help maintain their flexibility and appearance.\n",
      "```\n"
     ]
    }
   ],
   "source": [
    "\n",
    "completion = client.chat.completions.create(\n",
    "    model=\"gpt-4o-2024-08-06\",\n",
    "    messages= [\n",
    "    {\"role\": \"system\", \"content\": \"\"\"You will be given a conversation between the user and the assistant.\n",
    "You will be given a conversation between the user and the assistant.\n",
    "Your task is to create a questions and answers based on this conversation, speicifically, a **recall question** that asks about something said in the dialogue.\n",
    "The output format must be:\n",
    "\n",
    "```\n",
    "Q: {recall question}  \n",
    "A: {answer for recall question}\n",
    "```\n",
    "\n",
    "* The **recall question** should be phrased like: *\"What did I/you say about …\"* and must directly reference something from the original conversation.\n",
    "* The question must be strongly tied to the given dialogue so that, even after many later conversations, asking the question would naturally make the assistant recall this specific dialogue.\n",
    "* The question must be answer properly **only if** the given conversation is used to answer the question.\n",
    "* Make sure the question sounds as natural as possible—something the user might genuinely forget and later ask the assistant about after some time.\n",
    "* The question is asked by the user, and the answer is answered by assistant, so use the proper pronoun for question and answer.\n",
    "\"\"\".strip()},\n",
    "    {\"role\": \"user\", \"content\": formatted_str[0][0]},\n",
    "],\n",
    "    temperature=1,\n",
    "    top_p=1,\n",
    ")\n",
    "\n",
    "print(completion.choices[0].message.content)"
   ]
  }
 ],
 "metadata": {
  "kernelspec": {
   "display_name": "qwen2a2",
   "language": "python",
   "name": "python3"
  },
  "language_info": {
   "codemirror_mode": {
    "name": "ipython",
    "version": 3
   },
   "file_extension": ".py",
   "mimetype": "text/x-python",
   "name": "python",
   "nbconvert_exporter": "python",
   "pygments_lexer": "ipython3",
   "version": "3.10.16"
  }
 },
 "nbformat": 4,
 "nbformat_minor": 5
}
