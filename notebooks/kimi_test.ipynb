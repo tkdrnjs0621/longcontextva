{
 "cells": [
  {
   "cell_type": "code",
   "execution_count": null,
   "id": "babcad66",
   "metadata": {},
   "outputs": [
    {
     "name": "stderr",
     "output_type": "stream",
     "text": [
      "\u001b[32m2025-08-25 00:09:14.077\u001b[0m | \u001b[1mINFO    \u001b[0m | \u001b[36mkimia_infer.api.kimia\u001b[0m:\u001b[36m__init__\u001b[0m:\u001b[36m16\u001b[0m - \u001b[1mLoading kimi-audio main model\u001b[0m\n"
     ]
    },
    {
     "data": {
      "application/vnd.jupyter.widget-view+json": {
       "model_id": "f50bf85406414662b30b1539337d09bb",
       "version_major": 2,
       "version_minor": 0
      },
      "text/plain": [
       "Fetching 64 files:   0%|          | 0/64 [00:00<?, ?it/s]"
      ]
     },
     "metadata": {},
     "output_type": "display_data"
    },
    {
     "data": {
      "application/vnd.jupyter.widget-view+json": {
       "model_id": "ff039357fca5488c9d12a4f27a9cb2ad",
       "version_major": 2,
       "version_minor": 0
      },
      "text/plain": [
       ".gitattributes: 0.00B [00:00, ?B/s]"
      ]
     },
     "metadata": {},
     "output_type": "display_data"
    },
    {
     "data": {
      "application/vnd.jupyter.widget-view+json": {
       "model_id": "eee55d491f334753999f834e73aae62e",
       "version_major": 2,
       "version_minor": 0
      },
      "text/plain": [
       "configuration_moonshot_kimia.py: 0.00B [00:00, ?B/s]"
      ]
     },
     "metadata": {},
     "output_type": "display_data"
    },
    {
     "data": {
      "application/vnd.jupyter.widget-view+json": {
       "model_id": "2fe0ed94a80c4b4f82e8655df56f373e",
       "version_major": 2,
       "version_minor": 0
      },
      "text/plain": [
       "generation_config.json:   0%|          | 0.00/24.0 [00:00<?, ?B/s]"
      ]
     },
     "metadata": {},
     "output_type": "display_data"
    },
    {
     "data": {
      "application/vnd.jupyter.widget-view+json": {
       "model_id": "63fd1d3d7da44f89a7120a3f48e1bd4b",
       "version_major": 2,
       "version_minor": 0
      },
      "text/plain": [
       "README.md: 0.00B [00:00, ?B/s]"
      ]
     },
     "metadata": {},
     "output_type": "display_data"
    },
    {
     "data": {
      "application/vnd.jupyter.widget-view+json": {
       "model_id": "2d78f1009c6849739a338d365123a818",
       "version_major": 2,
       "version_minor": 0
      },
      "text/plain": [
       "config.yaml: 0.00B [00:00, ?B/s]"
      ]
     },
     "metadata": {},
     "output_type": "display_data"
    },
    {
     "data": {
      "application/vnd.jupyter.widget-view+json": {
       "model_id": "689aff3a63054816b2ef0d8040af2336",
       "version_major": 2,
       "version_minor": 0
      },
      "text/plain": [
       "audio_detokenizer/model.pt:   0%|          | 0.00/19.0G [00:00<?, ?B/s]"
      ]
     },
     "metadata": {},
     "output_type": "display_data"
    },
    {
     "data": {
      "application/vnd.jupyter.widget-view+json": {
       "model_id": "40cd4c670d6b48cfb3f7f0877e80ebf2",
       "version_major": 2,
       "version_minor": 0
      },
      "text/plain": [
       "config.json: 0.00B [00:00, ?B/s]"
      ]
     },
     "metadata": {},
     "output_type": "display_data"
    },
    {
     "data": {
      "application/vnd.jupyter.widget-view+json": {
       "model_id": "68d24f618ce64727827d207ce0b89982",
       "version_major": 2,
       "version_minor": 0
      },
      "text/plain": [
       "model-1-of-35.safetensors:   0%|          | 0.00/466M [00:00<?, ?B/s]"
      ]
     },
     "metadata": {},
     "output_type": "display_data"
    },
    {
     "data": {
      "application/vnd.jupyter.widget-view+json": {
       "model_id": "b4b755c69cf841b7bfadd65677e2ba1e",
       "version_major": 2,
       "version_minor": 0
      },
      "text/plain": [
       "model-10-of-35.safetensors:   0%|          | 0.00/466M [00:00<?, ?B/s]"
      ]
     },
     "metadata": {},
     "output_type": "display_data"
    },
    {
     "data": {
      "application/vnd.jupyter.widget-view+json": {
       "model_id": "68f8f0fb4e234304a8019afb5ab7f0bc",
       "version_major": 2,
       "version_minor": 0
      },
      "text/plain": [
       "model-12-of-35.safetensors:   0%|          | 0.00/466M [00:00<?, ?B/s]"
      ]
     },
     "metadata": {},
     "output_type": "display_data"
    },
    {
     "data": {
      "application/vnd.jupyter.widget-view+json": {
       "model_id": "51772894cae841258d6fa0db975e217d",
       "version_major": 2,
       "version_minor": 0
      },
      "text/plain": [
       "model-13-of-35.safetensors:   0%|          | 0.00/466M [00:00<?, ?B/s]"
      ]
     },
     "metadata": {},
     "output_type": "display_data"
    },
    {
     "data": {
      "application/vnd.jupyter.widget-view+json": {
       "model_id": "9d9c960ac5744aa29ffc1e978ccba77d",
       "version_major": 2,
       "version_minor": 0
      },
      "text/plain": [
       "model-14-of-35.safetensors:   0%|          | 0.00/466M [00:00<?, ?B/s]"
      ]
     },
     "metadata": {},
     "output_type": "display_data"
    },
    {
     "data": {
      "application/vnd.jupyter.widget-view+json": {
       "model_id": "4547fe8b97194c5181f414f77573d441",
       "version_major": 2,
       "version_minor": 0
      },
      "text/plain": [
       "model-11-of-35.safetensors:   0%|          | 0.00/466M [00:00<?, ?B/s]"
      ]
     },
     "metadata": {},
     "output_type": "display_data"
    },
    {
     "data": {
      "application/vnd.jupyter.widget-view+json": {
       "model_id": "3f3a7864622c4a41963ab6921b13c4c5",
       "version_major": 2,
       "version_minor": 0
      },
      "text/plain": [
       "model-15-of-35.safetensors:   0%|          | 0.00/466M [00:00<?, ?B/s]"
      ]
     },
     "metadata": {},
     "output_type": "display_data"
    },
    {
     "data": {
      "application/vnd.jupyter.widget-view+json": {
       "model_id": "51d1a7b824bb46c8b04bd62d602b22fa",
       "version_major": 2,
       "version_minor": 0
      },
      "text/plain": [
       "model-16-of-35.safetensors:   0%|          | 0.00/466M [00:00<?, ?B/s]"
      ]
     },
     "metadata": {},
     "output_type": "display_data"
    },
    {
     "data": {
      "application/vnd.jupyter.widget-view+json": {
       "model_id": "b79aa9c360524a7f91c11382296ffee3",
       "version_major": 2,
       "version_minor": 0
      },
      "text/plain": [
       "model-17-of-35.safetensors:   0%|          | 0.00/466M [00:00<?, ?B/s]"
      ]
     },
     "metadata": {},
     "output_type": "display_data"
    },
    {
     "data": {
      "application/vnd.jupyter.widget-view+json": {
       "model_id": "30660cb6d7a94e439aa81608a6df1348",
       "version_major": 2,
       "version_minor": 0
      },
      "text/plain": [
       "model-18-of-35.safetensors:   0%|          | 0.00/466M [00:00<?, ?B/s]"
      ]
     },
     "metadata": {},
     "output_type": "display_data"
    },
    {
     "data": {
      "application/vnd.jupyter.widget-view+json": {
       "model_id": "7b745be67d424ee5937bc4cceb9dd562",
       "version_major": 2,
       "version_minor": 0
      },
      "text/plain": [
       "model-19-of-35.safetensors:   0%|          | 0.00/466M [00:00<?, ?B/s]"
      ]
     },
     "metadata": {},
     "output_type": "display_data"
    },
    {
     "data": {
      "application/vnd.jupyter.widget-view+json": {
       "model_id": "e6659380df3d45729cb9b0dca2afb2ba",
       "version_major": 2,
       "version_minor": 0
      },
      "text/plain": [
       "model-2-of-35.safetensors:   0%|          | 0.00/466M [00:00<?, ?B/s]"
      ]
     },
     "metadata": {},
     "output_type": "display_data"
    },
    {
     "data": {
      "application/vnd.jupyter.widget-view+json": {
       "model_id": "2846aedde8c240e08e347901861a146e",
       "version_major": 2,
       "version_minor": 0
      },
      "text/plain": [
       "model-20-of-35.safetensors:   0%|          | 0.00/466M [00:00<?, ?B/s]"
      ]
     },
     "metadata": {},
     "output_type": "display_data"
    },
    {
     "data": {
      "application/vnd.jupyter.widget-view+json": {
       "model_id": "9556fba4ba31468dada2b506a23c1f37",
       "version_major": 2,
       "version_minor": 0
      },
      "text/plain": [
       "model-21-of-35.safetensors:   0%|          | 0.00/466M [00:00<?, ?B/s]"
      ]
     },
     "metadata": {},
     "output_type": "display_data"
    },
    {
     "data": {
      "application/vnd.jupyter.widget-view+json": {
       "model_id": "7cbfa7f2d1654c32bc0aa6be12b1a230",
       "version_major": 2,
       "version_minor": 0
      },
      "text/plain": [
       "model-22-of-35.safetensors:   0%|          | 0.00/466M [00:00<?, ?B/s]"
      ]
     },
     "metadata": {},
     "output_type": "display_data"
    },
    {
     "data": {
      "application/vnd.jupyter.widget-view+json": {
       "model_id": "7ac7cabc0cc9415db364d6f5717af40d",
       "version_major": 2,
       "version_minor": 0
      },
      "text/plain": [
       "model-23-of-35.safetensors:   0%|          | 0.00/466M [00:00<?, ?B/s]"
      ]
     },
     "metadata": {},
     "output_type": "display_data"
    },
    {
     "data": {
      "application/vnd.jupyter.widget-view+json": {
       "model_id": "c23474bef34e4d2d991a6011d4dfec0c",
       "version_major": 2,
       "version_minor": 0
      },
      "text/plain": [
       "model-24-of-35.safetensors:   0%|          | 0.00/466M [00:00<?, ?B/s]"
      ]
     },
     "metadata": {},
     "output_type": "display_data"
    },
    {
     "data": {
      "application/vnd.jupyter.widget-view+json": {
       "model_id": "0727c40ce37f42108165d2a0bb7ccad3",
       "version_major": 2,
       "version_minor": 0
      },
      "text/plain": [
       "model-25-of-35.safetensors:   0%|          | 0.00/466M [00:00<?, ?B/s]"
      ]
     },
     "metadata": {},
     "output_type": "display_data"
    },
    {
     "data": {
      "application/vnd.jupyter.widget-view+json": {
       "model_id": "68ffe76b97fc4f1b800722c2b099331a",
       "version_major": 2,
       "version_minor": 0
      },
      "text/plain": [
       "model-26-of-35.safetensors:   0%|          | 0.00/466M [00:00<?, ?B/s]"
      ]
     },
     "metadata": {},
     "output_type": "display_data"
    },
    {
     "data": {
      "application/vnd.jupyter.widget-view+json": {
       "model_id": "8f53352385d045e983f4730c57cd6f96",
       "version_major": 2,
       "version_minor": 0
      },
      "text/plain": [
       "model-27-of-35.safetensors:   0%|          | 0.00/466M [00:00<?, ?B/s]"
      ]
     },
     "metadata": {},
     "output_type": "display_data"
    },
    {
     "data": {
      "application/vnd.jupyter.widget-view+json": {
       "model_id": "8972b4f3eea449e884dc0041005d57ef",
       "version_major": 2,
       "version_minor": 0
      },
      "text/plain": [
       "model-28-of-35.safetensors:   0%|          | 0.00/466M [00:00<?, ?B/s]"
      ]
     },
     "metadata": {},
     "output_type": "display_data"
    },
    {
     "data": {
      "application/vnd.jupyter.widget-view+json": {
       "model_id": "3abed711bf8644e1b105369ec53b126e",
       "version_major": 2,
       "version_minor": 0
      },
      "text/plain": [
       "model-29-of-35.safetensors:   0%|          | 0.00/466M [00:00<?, ?B/s]"
      ]
     },
     "metadata": {},
     "output_type": "display_data"
    },
    {
     "data": {
      "application/vnd.jupyter.widget-view+json": {
       "model_id": "062f0bc555cb4d43aed2d9193177bb52",
       "version_major": 2,
       "version_minor": 0
      },
      "text/plain": [
       "model-3-of-35.safetensors:   0%|          | 0.00/466M [00:00<?, ?B/s]"
      ]
     },
     "metadata": {},
     "output_type": "display_data"
    },
    {
     "data": {
      "application/vnd.jupyter.widget-view+json": {
       "model_id": "7e0b30551b7747e6b806018973908469",
       "version_major": 2,
       "version_minor": 0
      },
      "text/plain": [
       "model-30-of-35.safetensors:   0%|          | 0.00/466M [00:00<?, ?B/s]"
      ]
     },
     "metadata": {},
     "output_type": "display_data"
    },
    {
     "data": {
      "application/vnd.jupyter.widget-view+json": {
       "model_id": "948fd229b1b5473abb69eac747a5907b",
       "version_major": 2,
       "version_minor": 0
      },
      "text/plain": [
       "model-31-of-35.safetensors:   0%|          | 0.00/466M [00:00<?, ?B/s]"
      ]
     },
     "metadata": {},
     "output_type": "display_data"
    },
    {
     "data": {
      "application/vnd.jupyter.widget-view+json": {
       "model_id": "5d503336c2b948b2912f9504590c5a50",
       "version_major": 2,
       "version_minor": 0
      },
      "text/plain": [
       "model-32-of-35.safetensors:   0%|          | 0.00/466M [00:00<?, ?B/s]"
      ]
     },
     "metadata": {},
     "output_type": "display_data"
    },
    {
     "data": {
      "application/vnd.jupyter.widget-view+json": {
       "model_id": "bfc39e68f88f42c4b10fb78f4156d881",
       "version_major": 2,
       "version_minor": 0
      },
      "text/plain": [
       "model-33-of-35.safetensors:   0%|          | 0.00/466M [00:00<?, ?B/s]"
      ]
     },
     "metadata": {},
     "output_type": "display_data"
    },
    {
     "data": {
      "application/vnd.jupyter.widget-view+json": {
       "model_id": "84d402019141404c9ba03084b3fe3144",
       "version_major": 2,
       "version_minor": 0
      },
      "text/plain": [
       "model-34-of-35.safetensors:   0%|          | 0.00/466M [00:00<?, ?B/s]"
      ]
     },
     "metadata": {},
     "output_type": "display_data"
    },
    {
     "data": {
      "application/vnd.jupyter.widget-view+json": {
       "model_id": "8cc2fa002af343e0805514af71de4426",
       "version_major": 2,
       "version_minor": 0
      },
      "text/plain": [
       "model-35-of-35.safetensors:   0%|          | 0.00/62.4M [00:00<?, ?B/s]"
      ]
     },
     "metadata": {},
     "output_type": "display_data"
    },
    {
     "data": {
      "application/vnd.jupyter.widget-view+json": {
       "model_id": "da450d1d969b4b5895d1a39747ea89b6",
       "version_major": 2,
       "version_minor": 0
      },
      "text/plain": [
       "model-36-of-36.safetensors:   0%|          | 0.00/3.62G [00:00<?, ?B/s]"
      ]
     },
     "metadata": {},
     "output_type": "display_data"
    },
    {
     "data": {
      "application/vnd.jupyter.widget-view+json": {
       "model_id": "e2ab8e74b9fe44429a42eab8f898921f",
       "version_major": 2,
       "version_minor": 0
      },
      "text/plain": [
       "model-4-of-35.safetensors:   0%|          | 0.00/466M [00:00<?, ?B/s]"
      ]
     },
     "metadata": {},
     "output_type": "display_data"
    },
    {
     "data": {
      "application/vnd.jupyter.widget-view+json": {
       "model_id": "504b3e8915244e8696581d8b73144d95",
       "version_major": 2,
       "version_minor": 0
      },
      "text/plain": [
       "model-5-of-35.safetensors:   0%|          | 0.00/466M [00:00<?, ?B/s]"
      ]
     },
     "metadata": {},
     "output_type": "display_data"
    },
    {
     "data": {
      "application/vnd.jupyter.widget-view+json": {
       "model_id": "1895a04f5a124bf2b9faf88eff94f7d8",
       "version_major": 2,
       "version_minor": 0
      },
      "text/plain": [
       "model-6-of-35.safetensors:   0%|          | 0.00/466M [00:00<?, ?B/s]"
      ]
     },
     "metadata": {},
     "output_type": "display_data"
    },
    {
     "data": {
      "application/vnd.jupyter.widget-view+json": {
       "model_id": "d7751a48466c441e855b36e7742585c3",
       "version_major": 2,
       "version_minor": 0
      },
      "text/plain": [
       "model-7-of-35.safetensors:   0%|          | 0.00/466M [00:00<?, ?B/s]"
      ]
     },
     "metadata": {},
     "output_type": "display_data"
    },
    {
     "data": {
      "application/vnd.jupyter.widget-view+json": {
       "model_id": "287c0e2f1dec446dafa39887c61e631c",
       "version_major": 2,
       "version_minor": 0
      },
      "text/plain": [
       "model-8-of-35.safetensors:   0%|          | 0.00/466M [00:00<?, ?B/s]"
      ]
     },
     "metadata": {},
     "output_type": "display_data"
    }
   ],
   "source": [
    "import soundfile as sf\n",
    "from kimia_infer.api.kimia import KimiAudio\n",
    "\n",
    "# --- 1. Load Model ---\n",
    "model_path = \"moonshotai/Kimi-Audio-7B-Instruct\" \n",
    "model = KimiAudio(model_path=model_path, load_detokenizer=True)\n"
   ]
  },
  {
   "cell_type": "code",
   "execution_count": null,
   "id": "c2047537",
   "metadata": {},
   "outputs": [],
   "source": [
    "\n",
    "# --- 2. Define Sampling Parameters ---\n",
    "sampling_params = {\n",
    "    \"audio_temperature\": 0.8,\n",
    "    \"audio_top_k\": 10,\n",
    "    \"text_temperature\": 0.0,\n",
    "    \"text_top_k\": 5,\n",
    "    \"audio_repetition_penalty\": 1.0,\n",
    "    \"audio_repetition_window_size\": 64,\n",
    "    \"text_repetition_penalty\": 1.0,\n",
    "    \"text_repetition_window_size\": 16,\n",
    "}\n",
    "\n",
    "# --- 3. Example 1: Audio-to-Text (ASR) ---\n",
    "messages_asr = [\n",
    "    # You can provide context or instructions as text\n",
    "    {\"role\": \"user\", \"message_type\": \"text\", \"content\": \"Please transcribe the following audio:\"},\n",
    "    # Provide the audio file path\n",
    "    {\"role\": \"user\", \"message_type\": \"audio\", \"content\": \"test_audios/asr_example.wav\"}\n",
    "]\n",
    "\n",
    "# Generate only text output\n",
    "_, text_output = model.generate(messages_asr, **sampling_params, output_type=\"text\")\n",
    "print(\">>> ASR Output Text: \", text_output) # Expected output: \"这并不是告别，这是一个篇章的结束，也是新篇章的开始。\"\n",
    "\n",
    "\n",
    "# --- 4. Example 2: Audio-to-Audio/Text Conversation ---\n",
    "messages_conversation = [\n",
    "    # Start conversation with an audio query\n",
    "    {\"role\": \"user\", \"message_type\": \"audio\", \"content\": \"test_audios/qa_example.wav\"}\n",
    "]\n",
    "\n",
    "# Generate both audio and text output\n",
    "wav_output, text_output = model.generate(messages_conversation, **sampling_params, output_type=\"both\")\n",
    "\n",
    "# Save the generated audio\n",
    "output_audio_path = \"output_audio.wav\"\n",
    "sf.write(output_audio_path, wav_output.detach().cpu().view(-1).numpy(), 24000) # Assuming 24kHz output\n",
    "print(f\">>> Conversational Output Audio saved to: {output_audio_path}\")\n",
    "print(\">>> Conversational Output Text: \", text_output) # Expected output: \"当然可以，这很简单。一二三四五六七八九十。\"\n",
    "\n",
    "# --- 5. Example 3: Audio-to-Audio/Text Conversation with Multiturn ---\n",
    "\n",
    "messages = [\n",
    "    {\"role\": \"user\", \"message_type\": \"audio\", \"content\": \"test_audios/multiturn/case2/multiturn_q1.wav\"},\n",
    "    # This is the first turn output of Kimi-Audio\n",
    "    {\"role\": \"assistant\", \"message_type\": \"audio-text\", \"content\": [\"test_audios/multiturn/case2/multiturn_a1.wav\", \"当然可以，这很简单。一二三四五六七八九十。\"]},\n",
    "    {\"role\": \"user\", \"message_type\": \"audio\", \"content\": \"test_audios/multiturn/case2/multiturn_q2.wav\"}\n",
    "]\n",
    "wav, text = model.generate(messages, **sampling_params, output_type=\"both\")\n",
    "\n",
    "\n",
    "# Generate both audio and text output\n",
    "wav_output, text_output = model.generate(messages_conversation, **sampling_params, output_type=\"both\")\n",
    "\n",
    "# Save the generated audio\n",
    "output_audio_path = \"output_audio.wav\"\n",
    "sf.write(output_audio_path, wav_output.detach().cpu().view(-1).numpy(), 24000) # Assuming 24kHz output\n",
    "print(f\">>> Conversational Output Audio saved to: {output_audio_path}\")\n",
    "print(\">>> Conversational Output Text: \", text_output) # Expected output: \"没问题，继续数下去就是十一十二十三十四十五十六十七十八十九二十。\"\n",
    "\n",
    "print(\"Kimi-Audio inference examples complete.\")\n",
    "\n"
   ]
  }
 ],
 "metadata": {
  "kernelspec": {
   "display_name": "kimi",
   "language": "python",
   "name": "python3"
  },
  "language_info": {
   "codemirror_mode": {
    "name": "ipython",
    "version": 3
   },
   "file_extension": ".py",
   "mimetype": "text/x-python",
   "name": "python",
   "nbconvert_exporter": "python",
   "pygments_lexer": "ipython3",
   "version": "3.12.11"
  }
 },
 "nbformat": 4,
 "nbformat_minor": 5
}
