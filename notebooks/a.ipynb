{
 "cells": [
  {
   "cell_type": "code",
   "execution_count": 1,
   "id": "f95e1de1",
   "metadata": {},
   "outputs": [
    {
     "name": "stderr",
     "output_type": "stream",
     "text": [
      "/home/tkdrnjs0621/miniconda3/envs/qwen2a2/lib/python3.10/site-packages/tqdm/auto.py:21: TqdmWarning: IProgress not found. Please update jupyter and ipywidgets. See https://ipywidgets.readthedocs.io/en/stable/user_install.html\n",
      "  from .autonotebook import tqdm as notebook_tqdm\n"
     ]
    }
   ],
   "source": [
    "from datasets import load_dataset\n",
    "from tqdm import tqdm"
   ]
  },
  {
   "cell_type": "code",
   "execution_count": 2,
   "id": "3cf56d8e",
   "metadata": {},
   "outputs": [],
   "source": [
    "dialogue = load_dataset(\"12kimih/HiCUPID\",\"dialogue\")"
   ]
  },
  {
   "cell_type": "code",
   "execution_count": 3,
   "id": "219cfe73",
   "metadata": {},
   "outputs": [
    {
     "name": "stderr",
     "output_type": "stream",
     "text": [
      "100%|██████████| 331250/331250 [00:23<00:00, 14027.00it/s]\n"
     ]
    }
   ],
   "source": [
    "formatted = {}\n",
    "\n",
    "for item in tqdm(dialogue['train']):\n",
    "    user_id = item['user_id']\n",
    "    dialogue_id = item['dialogue_id']\n",
    "    \n",
    "    # Initialize nested structure if not exists\n",
    "    if user_id not in formatted:\n",
    "        formatted[user_id] = {}\n",
    "    if dialogue_id not in formatted[user_id]:\n",
    "        formatted[user_id][dialogue_id] = []\n",
    "    \n",
    "    # Append user and assistant turns as a list\n",
    "    formatted[user_id][dialogue_id].append(item['user'])\n",
    "    formatted[user_id][dialogue_id].append(item['assistant'])"
   ]
  },
  {
   "cell_type": "code",
   "execution_count": 4,
   "id": "9381832a",
   "metadata": {},
   "outputs": [
    {
     "name": "stdout",
     "output_type": "stream",
     "text": [
      "User: What are the best ways to maintain rainboots for long-term use?\n",
      "Assistant: To ensure your rainboots last for years, clean them regularly with mild soap and water, avoiding harsh chemicals. Store them in a cool, dry place away from direct sunlight to prevent material degradation. Additionally, applying a rubber conditioner can help maintain their flexibility and appearance.\n",
      "User: I usually wear my rainboots daily. Would this affect their longevity?\n",
      "Assistant: Wearing rainboots daily can lead to increased wear and tear, but proper care can mitigate this. Rotate between pairs if possible to allow them to rest and recover. Inspect them frequently for signs of damage and address issues promptly.\n",
      "User: I find them very comfortable for my outdoor activities. Are there specific insoles recommended for rainboots?\n",
      "Assistant: Yes, using insoles designed for rainboots can enhance comfort and support. Look for moisture-wicking and cushioned insoles to keep your feet dry and comfortable. Custom orthotic insoles are also an excellent option for personalized support.\n",
      "User: I often walk through muddy terrains. How can I clean the soles effectively?\n",
      "Assistant: To clean muddy soles, use a stiff brush to remove debris, then rinse with water. For stubborn dirt, a mixture of water and mild detergent can be effective. Ensure the soles are completely dry before storing the boots.\n",
      "User: I wear rainboots because they are practical for my lifestyle. Are there any stylish options available?\n",
      "Assistant: Absolutely, rainboots come in various styles and designs to suit different preferences. Many brands offer fashionable options with patterns, colors, and even heeled versions. Explore brands known for combining functionality with style.\n",
      "User: I appreciate their versatility. Can they be used in snowy conditions as well?\n",
      "Assistant: Rainboots can be used in snowy conditions, but they may lack insulation. Consider wearing thick, thermal socks for added warmth. Alternatively, insulated rainboots are available for colder climates.\n",
      "User: I live in a region with frequent rain. Are there any accessories that complement rainboots?\n",
      "Assistant: Yes, accessories like boot liners, waterproof sprays, and boot bags can enhance your rainboot experience. Boot liners provide extra warmth, while waterproof sprays maintain their water resistance. Boot bags are convenient for storage and transport.\n",
      "User: I often pair them with my outdoor gear. Are there any tips for coordinating outfits?\n",
      "Assistant: To coordinate outfits with rainboots, consider matching colors or patterns with your outerwear. Neutral-colored rainboots pair well with most outfits, while bold designs can be a statement piece. Layering with complementary accessories can complete the look.\n",
      "User: I value their durability. Are there any eco-friendly rainboot options?\n",
      "Assistant: Yes, some brands offer rainboots made from sustainable materials like natural rubber or recycled plastics. These options are environmentally friendly and maintain high quality. Research brands committed to sustainable practices for more choices.\n",
      "User: I enjoy exploring nature trails. Are there any specific features to look for in rainboots for such activities?\n",
      "Assistant: For nature trails, look for rainboots with sturdy soles for traction, reinforced toes for protection, and lightweight designs for comfort. Waterproof and breathable materials are also essential for extended wear in varying conditions.\n"
     ]
    }
   ],
   "source": [
    "for i, k in enumerate(formatted[0][0]):\n",
    "    print('User:' if i%2==0 else 'Assistant:',k)"
   ]
  },
  {
   "cell_type": "code",
   "execution_count": 1,
   "id": "f3b7a3b0",
   "metadata": {},
   "outputs": [
    {
     "name": "stderr",
     "output_type": "stream",
     "text": [
      "/home/tkdrnjs0621/miniconda3/envs/qwen2a2/lib/python3.10/site-packages/tqdm/auto.py:21: TqdmWarning: IProgress not found. Please update jupyter and ipywidgets. See https://ipywidgets.readthedocs.io/en/stable/user_install.html\n",
      "  from .autonotebook import tqdm as notebook_tqdm\n",
      "Generating train split: 125 examples [00:00, 9772.74 examples/s]"
     ]
    },
    {
     "name": "stdout",
     "output_type": "stream",
     "text": [
      "0.014837173937600001\n"
     ]
    },
    {
     "name": "stderr",
     "output_type": "stream",
     "text": [
      "\n"
     ]
    }
   ],
   "source": [
    "from datasets import Dataset\n",
    "k = Dataset.from_json('/home/tkdrnjs0621/work/lcva/output_wer.jsonl')\n",
    "print(sum(k['wer'])/len(k))"
   ]
  }
 ],
 "metadata": {
  "kernelspec": {
   "display_name": "qwen2a2",
   "language": "python",
   "name": "python3"
  },
  "language_info": {
   "codemirror_mode": {
    "name": "ipython",
    "version": 3
   },
   "file_extension": ".py",
   "mimetype": "text/x-python",
   "name": "python",
   "nbconvert_exporter": "python",
   "pygments_lexer": "ipython3",
   "version": "3.10.16"
  }
 },
 "nbformat": 4,
 "nbformat_minor": 5
}
