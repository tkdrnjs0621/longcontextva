{
 "cells": [
  {
   "cell_type": "code",
   "execution_count": 13,
   "id": "ffda7c9a",
   "metadata": {},
   "outputs": [],
   "source": [
    "from datasets import Dataset, load_dataset"
   ]
  },
  {
   "cell_type": "code",
   "execution_count": 2,
   "id": "be61326c",
   "metadata": {},
   "outputs": [
    {
     "name": "stderr",
     "output_type": "stream",
     "text": [
      "Generating train split: 125 examples [00:00, 11096.04 examples/s]\n"
     ]
    }
   ],
   "source": [
    "dataset = Dataset.from_json('/home/tkdrnjs0621/work/lcva/batch_result.jsonl')"
   ]
  },
  {
   "cell_type": "code",
   "execution_count": null,
   "id": "dfec85bc",
   "metadata": {},
   "outputs": [],
   "source": [
    "ls = []\n",
    "for k in dataset:\n",
    "    a = k['response']['body']['choices'][0]['message']['content']\n",
    "    aa = a.split('Q:')[-1]\n",
    "    q = aa.split('A:')[0].strip()\n",
    "    a = aa.split('A:')[-1].strip()\n",
    "    \n",
    "    uid = k['custom_id'].split('_')[0]\n",
    "    did = k['custom_id'].split('_')[-1]\n",
    "    ls.append({'user_id':uid, 'dialogue_id':did, 'question':q, 'answer':a})"
   ]
  },
  {
   "cell_type": "code",
   "execution_count": 11,
   "id": "113b2841",
   "metadata": {},
   "outputs": [
    {
     "name": "stderr",
     "output_type": "stream",
     "text": [
      "Creating json from Arrow format: 100%|██████████| 1/1 [00:00<00:00, 189.21ba/s]"
     ]
    },
    {
     "name": "stderr",
     "output_type": "stream",
     "text": [
      "\n"
     ]
    },
    {
     "data": {
      "text/plain": [
       "38005"
      ]
     },
     "execution_count": 11,
     "metadata": {},
     "output_type": "execute_result"
    }
   ],
   "source": [
    "Dataset.from_list(ls).to_json('recall_dataset.jsonl')"
   ]
  },
  {
   "cell_type": "code",
   "execution_count": null,
   "id": "a06009bc",
   "metadata": {},
   "outputs": [
    {
     "name": "stderr",
     "output_type": "stream",
     "text": [
      "Generating train split: 100%|██████████| 40000/40000 [00:00<00:00, 316989.65 examples/s]\n",
      "Generating test_1 split: 100%|██████████| 10000/10000 [00:00<00:00, 265499.25 examples/s]\n",
      "Generating test_2 split: 100%|██████████| 10000/10000 [00:00<00:00, 273184.05 examples/s]\n"
     ]
    }
   ],
   "source": [
    "# qas =  load_dataset(\"12kimih/HiCUPID\",\"qa\")"
   ]
  },
  {
   "cell_type": "code",
   "execution_count": null,
   "id": "f38e8192",
   "metadata": {},
   "outputs": [],
   "source": []
  }
 ],
 "metadata": {
  "kernelspec": {
   "display_name": "qwen2a2",
   "language": "python",
   "name": "python3"
  },
  "language_info": {
   "codemirror_mode": {
    "name": "ipython",
    "version": 3
   },
   "file_extension": ".py",
   "mimetype": "text/x-python",
   "name": "python",
   "nbconvert_exporter": "python",
   "pygments_lexer": "ipython3",
   "version": "3.10.16"
  }
 },
 "nbformat": 4,
 "nbformat_minor": 5
}
